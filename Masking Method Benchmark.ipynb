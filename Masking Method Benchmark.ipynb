{
 "cells": [
  {
   "cell_type": "code",
   "execution_count": 2,
   "id": "e090d717-f36d-4b0c-b65e-7484e56c2428",
   "metadata": {},
   "outputs": [],
   "source": [
    "OPENSLIDE_PATH = r'C:\\openslide\\bin'\n",
    "\n",
    "import os\n",
    "if hasattr(os, 'add_dll_directory'):\n",
    "    # Windows\n",
    "    with os.add_dll_directory(OPENSLIDE_PATH):\n",
    "        import openslide"
   ]
  },
  {
   "cell_type": "code",
   "execution_count": 17,
   "id": "b8fea397-f090-4be5-a84a-bdfa86404e96",
   "metadata": {},
   "outputs": [],
   "source": [
    "from tiatoolbox.tools import patchextraction\n",
    "from tiatoolbox.tools.tissuemask import MorphologicalMasker\n",
    "from tiatoolbox.wsicore.wsireader import WSIReader\n",
    "import numpy as np\n",
    "import cv2"
   ]
  },
  {
   "cell_type": "code",
   "execution_count": 14,
   "id": "43f06f54-30d1-4c73-867c-b22396897559",
   "metadata": {},
   "outputs": [
    {
     "data": {
      "text/plain": [
       "['00000664-00835210-23HI014410-1-A23-1.ndpi',\n",
       " '00000664-00841378-23HI014804-1-A05-1.ndpi',\n",
       " '00000664-00855172-23HI015438-3-C05-1.ndpi',\n",
       " '00000664-00863205-23HI015466-2-B31-1.ndpi',\n",
       " '00000664-00866495-23HI016040-5-E01-1.ndpi',\n",
       " '00000664-00874792-23HI016087-2-B25-1.ndpi',\n",
       " '00000664-00878746-23HI015159-2-B05-1.ndpi',\n",
       " '00000664-00884202-23HI015589-2-B25-1.ndpi',\n",
       " '00000664-00887820-23HI016647-1-A03-1.ndpi',\n",
       " '00000664-00901684-23HI016930-11-K01-1.ndpi',\n",
       " '00000664-00901981-23HI016930-7-G03-1.ndpi',\n",
       " '00000664-00902292-23HI016730-3-C07-1.ndpi',\n",
       " '02000664-00813555-23HI016259-1-A19-1.ndpi',\n",
       " '02000664-00817020-23HI017402-8-H07-1.ndpi',\n",
       " '02000664-00830653-23HI016782-1-A25-1.ndpi',\n",
       " '02000664-00831634-23HI016608-1-A59-1.ndpi',\n",
       " '02000664-00877858-23HI016394-2-B09-2.ndpi',\n",
       " '03000664-00849731-23HI000646-1-A49-1.ndpi',\n",
       " '03000664-00857942-23HI002161-1-A41-1.ndpi',\n",
       " '04000664-00674945-23HI000926-1-A43-1.ndpi',\n",
       " '04000664-00684518-23HI001659-2-B05-1.ndpi',\n",
       " '05000664-00795099-23HI010923-1-A01-1.ndpi',\n",
       " '05000664-00814935-23HI012474-3-C12-1.ndpi',\n",
       " '05000664-00815292-23HI011519-4-D05-1.ndpi',\n",
       " '05000664-00815703-23HI011442-1-A23-1.ndpi',\n",
       " '05000664-00815832-23HI010966-1-A01-1.ndpi',\n",
       " '05000664-00816045-23HI010966-1-A25-1.ndpi',\n",
       " '05000664-00816069-23HI010966-1-A27-1.ndpi',\n",
       " '05000664-00816462-23HI011224-1-A49-1.ndpi',\n",
       " '05000664-00816801-23HI011589-2-B26-1.ndpi']"
      ]
     },
     "execution_count": 14,
     "metadata": {},
     "output_type": "execute_result"
    }
   ],
   "source": [
    "wsi_list = os.listdir(\"F:\\COPATH COURSE PROJECT\\TEST SET\")\n",
    "wsi_list = wsi_list[:-3]\n",
    "wsi_list"
   ]
  },
  {
   "cell_type": "code",
   "execution_count": 21,
   "id": "37b3e70d-b7c5-4ee7-a477-29900e347aab",
   "metadata": {},
   "outputs": [
    {
     "name": "stdout",
     "output_type": "stream",
     "text": [
      "Originally Extracted: 1024  patches total.\n",
      "After Removal Extracted: 351  patches total.\n",
      "Originally Extracted: 2491  patches total.\n",
      "After Removal Extracted: 2016  patches total.\n",
      "Originally Extracted: 2304  patches total.\n",
      "After Removal Extracted: 1573  patches total.\n",
      "Originally Extracted: 2332  patches total.\n",
      "After Removal Extracted: 1465  patches total.\n",
      "Originally Extracted: 1833  patches total.\n",
      "After Removal Extracted: 1026  patches total.\n",
      "Originally Extracted: 2590  patches total.\n",
      "After Removal Extracted: 1247  patches total.\n",
      "Originally Extracted: 1280  patches total.\n",
      "After Removal Extracted: 863  patches total.\n",
      "Originally Extracted: 1870  patches total.\n",
      "After Removal Extracted: 1208  patches total.\n",
      "Originally Extracted: 1107  patches total.\n",
      "After Removal Extracted: 644  patches total.\n",
      "Originally Extracted: 3038  patches total.\n",
      "After Removal Extracted: 2394  patches total.\n",
      "Originally Extracted: 1190  patches total.\n",
      "After Removal Extracted: 587  patches total.\n",
      "Originally Extracted: 1102  patches total.\n",
      "After Removal Extracted: 723  patches total.\n",
      "Originally Extracted: 3536  patches total.\n",
      "After Removal Extracted: 2860  patches total.\n",
      "Originally Extracted: 1802  patches total.\n",
      "After Removal Extracted: 1149  patches total.\n",
      "Originally Extracted: 675  patches total.\n",
      "After Removal Extracted: 272  patches total.\n",
      "Originally Extracted: 2838  patches total.\n",
      "After Removal Extracted: 1665  patches total.\n",
      "Originally Extracted: 12870  patches total.\n",
      "After Removal Extracted: 7496  patches total.\n",
      "Originally Extracted: 2706  patches total.\n",
      "After Removal Extracted: 1505  patches total.\n",
      "Originally Extracted: 2223  patches total.\n",
      "After Removal Extracted: 1235  patches total.\n",
      "Originally Extracted: 2891  patches total.\n",
      "After Removal Extracted: 2453  patches total.\n",
      "Originally Extracted: 1560  patches total.\n",
      "After Removal Extracted: 619  patches total.\n",
      "Originally Extracted: 2940  patches total.\n",
      "After Removal Extracted: 1713  patches total.\n",
      "Originally Extracted: 3468  patches total.\n",
      "After Removal Extracted: 2567  patches total.\n",
      "Originally Extracted: 1216  patches total.\n",
      "After Removal Extracted: 777  patches total.\n",
      "Originally Extracted: 1683  patches total.\n",
      "After Removal Extracted: 1061  patches total.\n",
      "Originally Extracted: 1247  patches total.\n",
      "After Removal Extracted: 669  patches total.\n",
      "Originally Extracted: 552  patches total.\n",
      "After Removal Extracted: 254  patches total.\n",
      "Originally Extracted: 690  patches total.\n",
      "After Removal Extracted: 340  patches total.\n",
      "Originally Extracted: 1672  patches total.\n",
      "After Removal Extracted: 827  patches total.\n",
      "Originally Extracted: 1598  patches total.\n",
      "After Removal Extracted: 874  patches total.\n",
      "7701.589962482452\n"
     ]
    }
   ],
   "source": [
    "import time\n",
    "\n",
    "start_time = time.time()\n",
    "\n",
    "rootDir = \"F:\\COPATH COURSE PROJECT\\TEST SET\\OutputMasking\"\n",
    "\n",
    "\n",
    "for wsi in wsi_list:\n",
    "    wsiReader = WSIReader.open(input_img=str(\"F:\\COPATH COURSE PROJECT\\TEST SET\"+\"\\\\\"+wsi))\n",
    "    imageOutputPath = str(rootDir+\"\\\\\"+wsi+\"\\\\\")\n",
    "    \n",
    "    patch_extractor = patchextraction.get_patch_extractor(\n",
    "    input_img=wsiReader,\n",
    "    method_name=\"slidingwindow\",\n",
    "    patch_size=(512,512,),\n",
    "    resolution=1,\n",
    "    units=\"level\",\n",
    "    )\n",
    "\n",
    "    print(\"Originally Extracted:\", len(patch_extractor), \" patches total.\")\n",
    "\n",
    "    masker = MorphologicalMasker(min_region_size=30)\n",
    "    masks = masker.fit_transform(patch_extractor)\n",
    "    patch_extractor = [patch_extractor[i] for i in range(len(patch_extractor)) if not np.all(masks[i] == False)]\n",
    "    print(\"After Removal Extracted:\", len(patch_extractor), \" patches total.\")\n",
    "\n",
    "    os.mkdir(imageOutputPath)\n",
    "    i=1\n",
    "    for patch in patch_extractor:\n",
    "      cv2.imwrite(str(imageOutputPath+str(i)+\".jpg\"),patch)\n",
    "      i = i+1\n",
    "    \n",
    "end_time = time.time()\n",
    "\n",
    "print(end_time-start_time)"
   ]
  },
  {
   "cell_type": "code",
   "execution_count": null,
   "id": "329fb5c2-06b1-4dda-af7b-4343b77da015",
   "metadata": {},
   "outputs": [],
   "source": []
  }
 ],
 "metadata": {
  "kernelspec": {
   "display_name": "Python 3 (ipykernel)",
   "language": "python",
   "name": "python3"
  },
  "language_info": {
   "codemirror_mode": {
    "name": "ipython",
    "version": 3
   },
   "file_extension": ".py",
   "mimetype": "text/x-python",
   "name": "python",
   "nbconvert_exporter": "python",
   "pygments_lexer": "ipython3",
   "version": "3.11.8"
  }
 },
 "nbformat": 4,
 "nbformat_minor": 5
}
