{
 "cells": [
  {
   "cell_type": "code",
   "execution_count": 1,
   "id": "e05ae633",
   "metadata": {},
   "outputs": [],
   "source": [
    "OPENSLIDE_PATH = r'C:\\openslide\\bin'\n",
    "\n",
    "import os\n",
    "if hasattr(os, 'add_dll_directory'):\n",
    "    # Windows\n",
    "    with os.add_dll_directory(OPENSLIDE_PATH):\n",
    "        import openslide"
   ]
  },
  {
   "cell_type": "code",
   "execution_count": 5,
   "id": "a9860504-2f20-4444-a879-941d3b79a2c4",
   "metadata": {},
   "outputs": [
    {
     "data": {
      "text/plain": [
       "['00000664-00835210-23HI014410-1-A23-1.ndpi',\n",
       " '00000664-00841378-23HI014804-1-A05-1.ndpi',\n",
       " '00000664-00855172-23HI015438-3-C05-1.ndpi',\n",
       " '00000664-00863205-23HI015466-2-B31-1.ndpi',\n",
       " '00000664-00866495-23HI016040-5-E01-1.ndpi',\n",
       " '00000664-00874792-23HI016087-2-B25-1.ndpi',\n",
       " '00000664-00878746-23HI015159-2-B05-1.ndpi',\n",
       " '00000664-00884202-23HI015589-2-B25-1.ndpi',\n",
       " '00000664-00887820-23HI016647-1-A03-1.ndpi',\n",
       " '00000664-00901684-23HI016930-11-K01-1.ndpi',\n",
       " '00000664-00901981-23HI016930-7-G03-1.ndpi',\n",
       " '00000664-00902292-23HI016730-3-C07-1.ndpi',\n",
       " '02000664-00813555-23HI016259-1-A19-1.ndpi',\n",
       " '02000664-00817020-23HI017402-8-H07-1.ndpi',\n",
       " '02000664-00830653-23HI016782-1-A25-1.ndpi',\n",
       " '02000664-00831634-23HI016608-1-A59-1.ndpi',\n",
       " '02000664-00877858-23HI016394-2-B09-2.ndpi',\n",
       " '03000664-00849731-23HI000646-1-A49-1.ndpi',\n",
       " '03000664-00857942-23HI002161-1-A41-1.ndpi',\n",
       " '04000664-00674945-23HI000926-1-A43-1.ndpi',\n",
       " '04000664-00684518-23HI001659-2-B05-1.ndpi',\n",
       " '05000664-00795099-23HI010923-1-A01-1.ndpi',\n",
       " '05000664-00814935-23HI012474-3-C12-1.ndpi',\n",
       " '05000664-00815292-23HI011519-4-D05-1.ndpi',\n",
       " '05000664-00815703-23HI011442-1-A23-1.ndpi',\n",
       " '05000664-00815832-23HI010966-1-A01-1.ndpi',\n",
       " '05000664-00816045-23HI010966-1-A25-1.ndpi',\n",
       " '05000664-00816069-23HI010966-1-A27-1.ndpi',\n",
       " '05000664-00816462-23HI011224-1-A49-1.ndpi',\n",
       " '05000664-00816801-23HI011589-2-B26-1.ndpi']"
      ]
     },
     "execution_count": 5,
     "metadata": {},
     "output_type": "execute_result"
    }
   ],
   "source": [
    "wsi_list = os.listdir(\"F:\\COPATH COURSE PROJECT\\TEST SET\")\n",
    "wsi_list = wsi_list[:-2]\n",
    "wsi_list"
   ]
  },
  {
   "cell_type": "code",
   "execution_count": 7,
   "id": "e470959b",
   "metadata": {},
   "outputs": [
    {
     "name": "stdout",
     "output_type": "stream",
     "text": [
      "1221.024616241455\n"
     ]
    }
   ],
   "source": [
    "from TIAToolbox_WSIReader_Modified import WSIReader\n",
    "import time\n",
    "\n",
    "start_time = time.time()\n",
    "for wsi in wsi_list:\n",
    "    wsiReader = WSIReader.open(input_img=str(\"F:\\COPATH COURSE PROJECT\\TEST SET\"+\"\\\\\"+wsi))\n",
    "    wsiReader.save_tiles(output_dir=\"F:\\COPATH COURSE PROJECT\\TEST SET\\Output\", tile_objective_value=10, tile_read_size=(512,512))\n",
    "end_time = time.time()\n",
    "\n",
    "print(end_time-start_time)"
   ]
  },
  {
   "cell_type": "code",
   "execution_count": 6,
   "id": "8fe01294",
   "metadata": {},
   "outputs": [
    {
     "name": "stdout",
     "output_type": "stream",
     "text": [
      "1668.0760941505432\n"
     ]
    }
   ],
   "source": [
    "from tiatoolbox.wsicore.wsireader import WSIReader\n",
    "import time\n",
    "\n",
    "start_time = time.time()\n",
    "for wsi in wsi_list:\n",
    "    wsiReader = WSIReader.open(input_img=str(\"F:\\COPATH COURSE PROJECT\\TEST SET\"+\"\\\\\"+wsi))\n",
    "    wsiReader.save_tiles(output_dir=\"F:\\COPATH COURSE PROJECT\\TEST SET\\OutputStandard\", tile_objective_value=10, tile_read_size=(512,512))\n",
    "end_time = time.time()\n",
    "\n",
    "print(end_time-start_time)"
   ]
  },
  {
   "cell_type": "code",
   "execution_count": null,
   "id": "9a4acb49-ed52-4245-9df6-703d7c017db1",
   "metadata": {},
   "outputs": [],
   "source": []
  }
 ],
 "metadata": {
  "kernelspec": {
   "display_name": "Python 3 (ipykernel)",
   "language": "python",
   "name": "python3"
  },
  "language_info": {
   "codemirror_mode": {
    "name": "ipython",
    "version": 3
   },
   "file_extension": ".py",
   "mimetype": "text/x-python",
   "name": "python",
   "nbconvert_exporter": "python",
   "pygments_lexer": "ipython3",
   "version": "3.11.8"
  }
 },
 "nbformat": 4,
 "nbformat_minor": 5
}
